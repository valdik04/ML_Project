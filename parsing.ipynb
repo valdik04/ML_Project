{
 "cells": [
  {
   "cell_type": "code",
   "execution_count": 125,
   "outputs": [],
   "source": [
    "import pandas as pd\n",
    "import numpy as np\n",
    "import requests\n",
    "from bs4 import BeautifulSoup"
   ],
   "metadata": {
    "collapsed": false,
    "pycharm": {
     "name": "#%%\n"
    }
   }
  },
  {
   "cell_type": "code",
   "execution_count": 135,
   "outputs": [],
   "source": [
    "df = pd.DataFrame({'car':[], 'year':[], 'price':[], 'capacity_engine':[], 'type_engine':[], 'power':[], 'box':[], 'actuator':[]})\n",
    "\n",
    "flag = False\n",
    "for link in ['https://spb.drom.ru/auto/year-2023/new/all/', 'https://spb.drom.ru/auto/year-2022/new/all/', 'https://spb.drom.ru/auto/year-2021/new/all/']:\n",
    "    for i in range(1, 2000):\n",
    "        if link == 'https://spb.drom.ru/auto/year-2022/new/all/':\n",
    "            if flag:\n",
    "                content = requests.get(link + f'/page{i}/?order_d=asc').content\n",
    "            else:\n",
    "                flag = False\n",
    "                content = requests.get(link + f'page{i}/').content\n",
    "        else:\n",
    "            content = requests.get(link + f'page{i}/').content\n",
    "        root = BeautifulSoup(content, \"html.parser\")\n",
    "        cards_1 = root.findAll(\"div\", class_=\"css-l1wt7n e3f4v4l2\")\n",
    "        cards_2 = root.findAll(\"div\", class_=\"css-1fe6w6s e162wx9x0\")\n",
    "        cards_price = root.findAll(\"div\", class_=\"css-1dv8s3l eyvqki91\")\n",
    "        for j in range(max(len(cards_1), len(cards_2))):\n",
    "            try:\n",
    "                text_1 = cards_1[j].text.split(',')\n",
    "                cars = text_1[0].strip()\n",
    "                years = text_1[1].strip()\n",
    "                text_2 = cards_2[j].text.split(',')\n",
    "                type_engine = text_2[1].strip()\n",
    "                if type_engine == 'электро':\n",
    "                    power = text_2[0].split(' ')[0].strip()\n",
    "                    cap_engine = np.nan\n",
    "                else:\n",
    "                    cap_engine = text_2[0].split(' ')[0].strip()\n",
    "                    power = text_2[0].split(' ')[2][1:].strip()\n",
    "                box = text_2[2].strip()\n",
    "                actuator = text_2[3].strip()\n",
    "                price = cards_price[j].text.replace('\\xa0', '')[:-1]\n",
    "                new_data = pd.DataFrame({'car':[cars], 'year':[years], 'price':[price], 'capacity_engine':[cap_engine], 'type_engine':[type_engine], 'power':[power], 'box':[box], 'actuator':[actuator]})\n",
    "                df = pd.concat([df, new_data])\n",
    "            except:\n",
    "                pass"
   ],
   "metadata": {
    "collapsed": false,
    "pycharm": {
     "name": "#%%\n"
    }
   }
  },
  {
   "cell_type": "code",
   "execution_count": 136,
   "outputs": [
    {
     "data": {
      "text/plain": "                          car  year     price capacity_engine type_engine  \\\n0                 УАЗ Патриот  2023   1691000             2.7      бензин   \n0                 УАЗ Патриот  2023   1691000             2.7      бензин   \n0                  УАЗ Хантер  2023   1525000             2.7      бензин   \n0             Geely Atlas Pro  2023   3318990             1.5      гибрид   \n0                    OMODA C5  2023   2699900             1.5      бензин   \n..                        ...   ...       ...             ...         ...   \n0   Toyota Land Cruiser Prado  2021  10789490             2.8      дизель   \n0    Mitsubishi Eclipse Cross  2021   3393000             2.0      бензин   \n0           Mitsubishi Pajero  2021   3200000             3.8      бензин   \n0              Nissan Qashqai  2021   6790000             3.6      бензин   \n0              Hyundai Sonata  2021   2070000             1.5      бензин   \n\n   power       box  actuator  \n0    150  механика       4WD  \n0    150  механика       4WD  \n0    135  механика       4WD  \n0    177     робот       4WD  \n0    147  вариатор  передний  \n..   ...       ...       ...  \n0    200      АКПП       4WD  \n0    150  вариатор  передний  \n0    243      АКПП       4WD  \n0    290      АКПП       4WD  \n0    103      АКПП  передний  \n\n[3810 rows x 8 columns]",
      "text/html": "<div>\n<style scoped>\n    .dataframe tbody tr th:only-of-type {\n        vertical-align: middle;\n    }\n\n    .dataframe tbody tr th {\n        vertical-align: top;\n    }\n\n    .dataframe thead th {\n        text-align: right;\n    }\n</style>\n<table border=\"1\" class=\"dataframe\">\n  <thead>\n    <tr style=\"text-align: right;\">\n      <th></th>\n      <th>car</th>\n      <th>year</th>\n      <th>price</th>\n      <th>capacity_engine</th>\n      <th>type_engine</th>\n      <th>power</th>\n      <th>box</th>\n      <th>actuator</th>\n    </tr>\n  </thead>\n  <tbody>\n    <tr>\n      <th>0</th>\n      <td>УАЗ Патриот</td>\n      <td>2023</td>\n      <td>1691000</td>\n      <td>2.7</td>\n      <td>бензин</td>\n      <td>150</td>\n      <td>механика</td>\n      <td>4WD</td>\n    </tr>\n    <tr>\n      <th>0</th>\n      <td>УАЗ Патриот</td>\n      <td>2023</td>\n      <td>1691000</td>\n      <td>2.7</td>\n      <td>бензин</td>\n      <td>150</td>\n      <td>механика</td>\n      <td>4WD</td>\n    </tr>\n    <tr>\n      <th>0</th>\n      <td>УАЗ Хантер</td>\n      <td>2023</td>\n      <td>1525000</td>\n      <td>2.7</td>\n      <td>бензин</td>\n      <td>135</td>\n      <td>механика</td>\n      <td>4WD</td>\n    </tr>\n    <tr>\n      <th>0</th>\n      <td>Geely Atlas Pro</td>\n      <td>2023</td>\n      <td>3318990</td>\n      <td>1.5</td>\n      <td>гибрид</td>\n      <td>177</td>\n      <td>робот</td>\n      <td>4WD</td>\n    </tr>\n    <tr>\n      <th>0</th>\n      <td>OMODA C5</td>\n      <td>2023</td>\n      <td>2699900</td>\n      <td>1.5</td>\n      <td>бензин</td>\n      <td>147</td>\n      <td>вариатор</td>\n      <td>передний</td>\n    </tr>\n    <tr>\n      <th>...</th>\n      <td>...</td>\n      <td>...</td>\n      <td>...</td>\n      <td>...</td>\n      <td>...</td>\n      <td>...</td>\n      <td>...</td>\n      <td>...</td>\n    </tr>\n    <tr>\n      <th>0</th>\n      <td>Toyota Land Cruiser Prado</td>\n      <td>2021</td>\n      <td>10789490</td>\n      <td>2.8</td>\n      <td>дизель</td>\n      <td>200</td>\n      <td>АКПП</td>\n      <td>4WD</td>\n    </tr>\n    <tr>\n      <th>0</th>\n      <td>Mitsubishi Eclipse Cross</td>\n      <td>2021</td>\n      <td>3393000</td>\n      <td>2.0</td>\n      <td>бензин</td>\n      <td>150</td>\n      <td>вариатор</td>\n      <td>передний</td>\n    </tr>\n    <tr>\n      <th>0</th>\n      <td>Mitsubishi Pajero</td>\n      <td>2021</td>\n      <td>3200000</td>\n      <td>3.8</td>\n      <td>бензин</td>\n      <td>243</td>\n      <td>АКПП</td>\n      <td>4WD</td>\n    </tr>\n    <tr>\n      <th>0</th>\n      <td>Nissan Qashqai</td>\n      <td>2021</td>\n      <td>6790000</td>\n      <td>3.6</td>\n      <td>бензин</td>\n      <td>290</td>\n      <td>АКПП</td>\n      <td>4WD</td>\n    </tr>\n    <tr>\n      <th>0</th>\n      <td>Hyundai Sonata</td>\n      <td>2021</td>\n      <td>2070000</td>\n      <td>1.5</td>\n      <td>бензин</td>\n      <td>103</td>\n      <td>АКПП</td>\n      <td>передний</td>\n    </tr>\n  </tbody>\n</table>\n<p>3810 rows × 8 columns</p>\n</div>"
     },
     "execution_count": 136,
     "metadata": {},
     "output_type": "execute_result"
    }
   ],
   "source": [
    "df"
   ],
   "metadata": {
    "collapsed": false,
    "pycharm": {
     "name": "#%%\n"
    }
   }
  },
  {
   "cell_type": "code",
   "execution_count": 138,
   "outputs": [
    {
     "data": {
      "text/plain": "                          car  year     price capacity_engine type_engine  \\\n0                 УАЗ Патриот  2023   1691000             2.7      бензин   \n0                  УАЗ Хантер  2023   1525000             2.7      бензин   \n0             Geely Atlas Pro  2023   3318990             1.5      гибрид   \n0                    OMODA C5  2023   2699900             1.5      бензин   \n0                    Kia Ceed  2023   2224900             1.6      бензин   \n..                        ...   ...       ...             ...         ...   \n0   Toyota Land Cruiser Prado  2021  10789490             2.8      дизель   \n0    Mitsubishi Eclipse Cross  2021   3393000             2.0      бензин   \n0           Mitsubishi Pajero  2021   3200000             3.8      бензин   \n0              Nissan Qashqai  2021   6790000             3.6      бензин   \n0              Hyundai Sonata  2021   2070000             1.5      бензин   \n\n   power       box  actuator  \n0    150  механика       4WD  \n0    135  механика       4WD  \n0    177     робот       4WD  \n0    147  вариатор  передний  \n0    128      АКПП  передний  \n..   ...       ...       ...  \n0    200      АКПП       4WD  \n0    150  вариатор  передний  \n0    243      АКПП       4WD  \n0    290      АКПП       4WD  \n0    103      АКПП  передний  \n\n[926 rows x 8 columns]",
      "text/html": "<div>\n<style scoped>\n    .dataframe tbody tr th:only-of-type {\n        vertical-align: middle;\n    }\n\n    .dataframe tbody tr th {\n        vertical-align: top;\n    }\n\n    .dataframe thead th {\n        text-align: right;\n    }\n</style>\n<table border=\"1\" class=\"dataframe\">\n  <thead>\n    <tr style=\"text-align: right;\">\n      <th></th>\n      <th>car</th>\n      <th>year</th>\n      <th>price</th>\n      <th>capacity_engine</th>\n      <th>type_engine</th>\n      <th>power</th>\n      <th>box</th>\n      <th>actuator</th>\n    </tr>\n  </thead>\n  <tbody>\n    <tr>\n      <th>0</th>\n      <td>УАЗ Патриот</td>\n      <td>2023</td>\n      <td>1691000</td>\n      <td>2.7</td>\n      <td>бензин</td>\n      <td>150</td>\n      <td>механика</td>\n      <td>4WD</td>\n    </tr>\n    <tr>\n      <th>0</th>\n      <td>УАЗ Хантер</td>\n      <td>2023</td>\n      <td>1525000</td>\n      <td>2.7</td>\n      <td>бензин</td>\n      <td>135</td>\n      <td>механика</td>\n      <td>4WD</td>\n    </tr>\n    <tr>\n      <th>0</th>\n      <td>Geely Atlas Pro</td>\n      <td>2023</td>\n      <td>3318990</td>\n      <td>1.5</td>\n      <td>гибрид</td>\n      <td>177</td>\n      <td>робот</td>\n      <td>4WD</td>\n    </tr>\n    <tr>\n      <th>0</th>\n      <td>OMODA C5</td>\n      <td>2023</td>\n      <td>2699900</td>\n      <td>1.5</td>\n      <td>бензин</td>\n      <td>147</td>\n      <td>вариатор</td>\n      <td>передний</td>\n    </tr>\n    <tr>\n      <th>0</th>\n      <td>Kia Ceed</td>\n      <td>2023</td>\n      <td>2224900</td>\n      <td>1.6</td>\n      <td>бензин</td>\n      <td>128</td>\n      <td>АКПП</td>\n      <td>передний</td>\n    </tr>\n    <tr>\n      <th>...</th>\n      <td>...</td>\n      <td>...</td>\n      <td>...</td>\n      <td>...</td>\n      <td>...</td>\n      <td>...</td>\n      <td>...</td>\n      <td>...</td>\n    </tr>\n    <tr>\n      <th>0</th>\n      <td>Toyota Land Cruiser Prado</td>\n      <td>2021</td>\n      <td>10789490</td>\n      <td>2.8</td>\n      <td>дизель</td>\n      <td>200</td>\n      <td>АКПП</td>\n      <td>4WD</td>\n    </tr>\n    <tr>\n      <th>0</th>\n      <td>Mitsubishi Eclipse Cross</td>\n      <td>2021</td>\n      <td>3393000</td>\n      <td>2.0</td>\n      <td>бензин</td>\n      <td>150</td>\n      <td>вариатор</td>\n      <td>передний</td>\n    </tr>\n    <tr>\n      <th>0</th>\n      <td>Mitsubishi Pajero</td>\n      <td>2021</td>\n      <td>3200000</td>\n      <td>3.8</td>\n      <td>бензин</td>\n      <td>243</td>\n      <td>АКПП</td>\n      <td>4WD</td>\n    </tr>\n    <tr>\n      <th>0</th>\n      <td>Nissan Qashqai</td>\n      <td>2021</td>\n      <td>6790000</td>\n      <td>3.6</td>\n      <td>бензин</td>\n      <td>290</td>\n      <td>АКПП</td>\n      <td>4WD</td>\n    </tr>\n    <tr>\n      <th>0</th>\n      <td>Hyundai Sonata</td>\n      <td>2021</td>\n      <td>2070000</td>\n      <td>1.5</td>\n      <td>бензин</td>\n      <td>103</td>\n      <td>АКПП</td>\n      <td>передний</td>\n    </tr>\n  </tbody>\n</table>\n<p>926 rows × 8 columns</p>\n</div>"
     },
     "execution_count": 138,
     "metadata": {},
     "output_type": "execute_result"
    }
   ],
   "source": [
    "df.drop_duplicates()"
   ],
   "metadata": {
    "collapsed": false,
    "pycharm": {
     "name": "#%%\n"
    }
   }
  },
  {
   "cell_type": "code",
   "execution_count": null,
   "outputs": [],
   "source": [],
   "metadata": {
    "collapsed": false,
    "pycharm": {
     "name": "#%%\n"
    }
   }
  }
 ],
 "metadata": {
  "kernelspec": {
   "display_name": "Python 3",
   "language": "python",
   "name": "python3"
  },
  "language_info": {
   "codemirror_mode": {
    "name": "ipython",
    "version": 2
   },
   "file_extension": ".py",
   "mimetype": "text/x-python",
   "name": "python",
   "nbconvert_exporter": "python",
   "pygments_lexer": "ipython2",
   "version": "2.7.6"
  }
 },
 "nbformat": 4,
 "nbformat_minor": 0
}